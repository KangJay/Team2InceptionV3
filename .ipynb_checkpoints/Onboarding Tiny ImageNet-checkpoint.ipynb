{
 "cells": [
  {
   "cell_type": "code",
   "execution_count": null,
   "id": "duplicate-partner",
   "metadata": {},
   "outputs": [],
   "source": []
  },
  {
   "cell_type": "code",
   "execution_count": null,
   "id": "amino-carpet",
   "metadata": {},
   "outputs": [],
   "source": [
    "# log in\n",
    "from azureml.core.authentication import InteractiveLoginAuthentication\n",
    "\n",
    "ia = InteractiveLoginAuthentication(tenant_id='72f988bf-86f1-41af-91ab-2d7cd011db47')\n",
    "# You can find tenant id under azure active directory->properties\n",
    "#ws = Workspace.get(name='aml-workspace',\n",
    "#                   subscription_id='92c76a2f-0e1c-4216-b65e-abf7a3f34c1e',\n",
    "#                   resource_group='AzureML_UW_ImageClassification',auth=ia)"
   ]
  },
  {
   "cell_type": "code",
   "execution_count": 3,
   "id": "inappropriate-brook",
   "metadata": {},
   "outputs": [
    {
     "name": "stdout",
     "output_type": "stream",
     "text": [
      "Deploying AppInsights with name tinyimaginsightse43e835e.\n",
      "Deployed AppInsights with name tinyimaginsightse43e835e. Took 4.55 seconds.\n",
      "Deploying StorageAccount with name tinyimagstorage0691ba34b.\n",
      "Deploying KeyVault with name tinyimagkeyvault5a048c7c.\n",
      "Deployed KeyVault with name tinyimagkeyvault5a048c7c. Took 21.07 seconds.\n",
      "Deployed StorageAccount with name tinyimagstorage0691ba34b. Took 24.13 seconds.\n",
      "Deploying Workspace with name tiny-image-net.\n",
      "Deployed Workspace with name tiny-image-net. Took 41.53 seconds.\n"
     ]
    }
   ],
   "source": [
    "# create workspace linked to resource group\n",
    "from azureml.core import Workspace\n",
    "\n",
    "ws = Workspace.create(name='tiny-image-net',\n",
    "               subscription_id='92c76a2f-0e1c-4216-b65e-abf7a3f34c1e',\n",
    "               resource_group='AzureML_UW_ImageClassification',\n",
    "               create_resource_group=False,\n",
    "               location='eastus2'\n",
    "               )"
   ]
  },
  {
   "cell_type": "code",
   "execution_count": 4,
   "id": "floppy-architect",
   "metadata": {},
   "outputs": [
    {
     "data": {
      "text/plain": [
       "{'tiny-image-net': [Workspace.create(name='tiny-image-net', subscription_id='92c76a2f-0e1c-4216-b65e-abf7a3f34c1e', resource_group='AzureML_UW_ImageClassification')]}"
      ]
     },
     "execution_count": 4,
     "metadata": {},
     "output_type": "execute_result"
    }
   ],
   "source": [
    "from azureml.core import Workspace\n",
    "\n",
    "Workspace.list('92c76a2f-0e1c-4216-b65e-abf7a3f34c1e')"
   ]
  },
  {
   "cell_type": "code",
   "execution_count": 20,
   "id": "premium-fetish",
   "metadata": {},
   "outputs": [
    {
     "name": "stderr",
     "output_type": "stream",
     "text": [
      "Registering datastore failed with a 400 error code and error message 'Unable to verify share 'tinyimagenetcontainer' exists. Please make sure the connection information including the credential is correct and try again.'\n"
     ]
    },
    {
     "ename": "ErrorResponseException",
     "evalue": "(NotFound) Unable to verify share 'tinyimagenetcontainer' exists. Please make sure the connection information including the credential is correct and try again.",
     "output_type": "error",
     "traceback": [
      "\u001b[0;31m----------------------------------------------------------------------\u001b[0m",
      "\u001b[0;31mErrorResponseException\u001b[0m               Traceback (most recent call last)",
      "\u001b[0;32m<ipython-input-20-a95affdf61d1>\u001b[0m in \u001b[0;36m<module>\u001b[0;34m\u001b[0m\n\u001b[1;32m     15\u001b[0m                                                      \u001b[0mfile_share_name\u001b[0m\u001b[0;34m=\u001b[0m\u001b[0mfile_share_name\u001b[0m\u001b[0;34m,\u001b[0m\u001b[0;34m\u001b[0m\u001b[0;34m\u001b[0m\u001b[0m\n\u001b[1;32m     16\u001b[0m                                                      \u001b[0maccount_name\u001b[0m\u001b[0;34m=\u001b[0m\u001b[0maccount_name\u001b[0m\u001b[0;34m,\u001b[0m\u001b[0;34m\u001b[0m\u001b[0;34m\u001b[0m\u001b[0m\n\u001b[0;32m---> 17\u001b[0;31m                                                      account_key=account_key)\n\u001b[0m\u001b[1;32m     18\u001b[0m \u001b[0;34m\u001b[0m\u001b[0m\n\u001b[1;32m     19\u001b[0m \u001b[0;34m\u001b[0m\u001b[0m\n",
      "\u001b[0;32m/Library/Frameworks/Python.framework/Versions/3.7/lib/python3.7/site-packages/azureml/core/datastore.py\u001b[0m in \u001b[0;36mregister_azure_file_share\u001b[0;34m(workspace, datastore_name, file_share_name, account_name, sas_token, account_key, protocol, endpoint, overwrite, create_if_not_exists, skip_validation)\u001b[0m\n\u001b[1;32m    282\u001b[0m         return Datastore._client().register_azure_file_share(workspace, datastore_name, file_share_name, account_name,\n\u001b[1;32m    283\u001b[0m                                                              \u001b[0msas_token\u001b[0m\u001b[0;34m,\u001b[0m \u001b[0maccount_key\u001b[0m\u001b[0;34m,\u001b[0m \u001b[0mprotocol\u001b[0m\u001b[0;34m,\u001b[0m \u001b[0mendpoint\u001b[0m\u001b[0;34m,\u001b[0m \u001b[0moverwrite\u001b[0m\u001b[0;34m,\u001b[0m\u001b[0;34m\u001b[0m\u001b[0;34m\u001b[0m\u001b[0m\n\u001b[0;32m--> 284\u001b[0;31m                                                              create_if_not_exists, skip_validation)\n\u001b[0m\u001b[1;32m    285\u001b[0m \u001b[0;34m\u001b[0m\u001b[0m\n\u001b[1;32m    286\u001b[0m     \u001b[0;34m@\u001b[0m\u001b[0mstaticmethod\u001b[0m\u001b[0;34m\u001b[0m\u001b[0;34m\u001b[0m\u001b[0m\n",
      "\u001b[0;32m/Library/Frameworks/Python.framework/Versions/3.7/lib/python3.7/site-packages/azureml/data/datastore_client.py\u001b[0m in \u001b[0;36mregister_azure_file_share\u001b[0;34m(workspace, datastore_name, file_share_name, account_name, sas_token, account_key, protocol, endpoint, overwrite, create_if_not_exists, skip_validation)\u001b[0m\n\u001b[1;32m    304\u001b[0m         return _DatastoreClient._register_azure_storage(\n\u001b[1;32m    305\u001b[0m             \u001b[0mworkspace\u001b[0m\u001b[0;34m,\u001b[0m \u001b[0mdatastore_name\u001b[0m\u001b[0;34m,\u001b[0m \u001b[0mconstants\u001b[0m\u001b[0;34m.\u001b[0m\u001b[0mAZURE_FILE\u001b[0m\u001b[0;34m,\u001b[0m \u001b[0mfile_share_name\u001b[0m\u001b[0;34m,\u001b[0m \u001b[0maccount_name\u001b[0m\u001b[0;34m,\u001b[0m \u001b[0mcredential_type\u001b[0m\u001b[0;34m,\u001b[0m\u001b[0;34m\u001b[0m\u001b[0;34m\u001b[0m\u001b[0m\n\u001b[0;32m--> 306\u001b[0;31m             sas_token or account_key, protocol, endpoint, overwrite, create_if_not_exists, skip_validation)\n\u001b[0m\u001b[1;32m    307\u001b[0m \u001b[0;34m\u001b[0m\u001b[0m\n\u001b[1;32m    308\u001b[0m     \u001b[0;34m@\u001b[0m\u001b[0mstaticmethod\u001b[0m\u001b[0;34m\u001b[0m\u001b[0;34m\u001b[0m\u001b[0m\n",
      "\u001b[0;32m/Library/Frameworks/Python.framework/Versions/3.7/lib/python3.7/site-packages/azureml/data/datastore_client.py\u001b[0m in \u001b[0;36m_register_azure_storage\u001b[0;34m(ws, datastore_name, storage_type, container_name, account_name, credential_type, credential, protocol, endpoint, overwrite, create_if_not_exists, skip_validation, auth, host, blob_cache_timeout, grant_workspace_access, subscription_id, resource_group)\u001b[0m\n\u001b[1;32m    678\u001b[0m         \u001b[0mmodule_logger\u001b[0m\u001b[0;34m.\u001b[0m\u001b[0mdebug\u001b[0m\u001b[0;34m(\u001b[0m\u001b[0;34m\"Converted data into DTO\"\u001b[0m\u001b[0;34m)\u001b[0m\u001b[0;34m\u001b[0m\u001b[0;34m\u001b[0m\u001b[0m\n\u001b[1;32m    679\u001b[0m         return _DatastoreClient._register(ws=ws, dto=datastore, create_if_not_exists=create_if_not_exists,\n\u001b[0;32m--> 680\u001b[0;31m                                           skip_validation=skip_validation, overwrite=overwrite, auth=auth, host=host)\n\u001b[0m\u001b[1;32m    681\u001b[0m \u001b[0;34m\u001b[0m\u001b[0m\n\u001b[1;32m    682\u001b[0m     \u001b[0;34m@\u001b[0m\u001b[0mstaticmethod\u001b[0m\u001b[0;34m\u001b[0m\u001b[0;34m\u001b[0m\u001b[0m\n",
      "\u001b[0;32m/Library/Frameworks/Python.framework/Versions/3.7/lib/python3.7/site-packages/azureml/data/datastore_client.py\u001b[0m in \u001b[0;36m_register\u001b[0;34m(ws, dto, create_if_not_exists, skip_validation, overwrite, auth, host)\u001b[0m\n\u001b[1;32m    832\u001b[0m                 module_logger.error(\"Registering datastore failed with a {} error code and error message '{}'\"\n\u001b[1;32m    833\u001b[0m                                     .format(e.response.status_code, _DatastoreClient._get_http_exception_message(e)))\n\u001b[0;32m--> 834\u001b[0;31m                 \u001b[0;32mraise\u001b[0m \u001b[0me\u001b[0m\u001b[0;34m\u001b[0m\u001b[0;34m\u001b[0m\u001b[0m\n\u001b[0m\u001b[1;32m    835\u001b[0m \u001b[0;34m\u001b[0m\u001b[0m\n\u001b[1;32m    836\u001b[0m         \u001b[0;32mreturn\u001b[0m \u001b[0m_DatastoreClient\u001b[0m\u001b[0;34m.\u001b[0m\u001b[0m_get\u001b[0m\u001b[0;34m(\u001b[0m\u001b[0mws\u001b[0m\u001b[0;34m,\u001b[0m \u001b[0mdto\u001b[0m\u001b[0;34m.\u001b[0m\u001b[0mname\u001b[0m\u001b[0;34m,\u001b[0m \u001b[0mauth\u001b[0m\u001b[0;34m,\u001b[0m \u001b[0mhost\u001b[0m\u001b[0;34m)\u001b[0m\u001b[0;34m\u001b[0m\u001b[0;34m\u001b[0m\u001b[0m\n",
      "\u001b[0;32m/Library/Frameworks/Python.framework/Versions/3.7/lib/python3.7/site-packages/azureml/data/datastore_client.py\u001b[0m in \u001b[0;36m_register\u001b[0;34m(ws, dto, create_if_not_exists, skip_validation, overwrite, auth, host)\u001b[0m\n\u001b[1;32m    819\u001b[0m             client.data_stores.create(ws._subscription_id, ws._resource_group, ws._workspace_name,\n\u001b[1;32m    820\u001b[0m                                       \u001b[0mdto\u001b[0m\u001b[0;34m,\u001b[0m \u001b[0mcreate_if_not_exists\u001b[0m\u001b[0;34m,\u001b[0m \u001b[0mskip_validation\u001b[0m\u001b[0;34m,\u001b[0m\u001b[0;34m\u001b[0m\u001b[0;34m\u001b[0m\u001b[0m\n\u001b[0;32m--> 821\u001b[0;31m                                       custom_headers=_DatastoreClient._custom_headers)\n\u001b[0m\u001b[1;32m    822\u001b[0m         \u001b[0;32mexcept\u001b[0m \u001b[0mHttpOperationError\u001b[0m \u001b[0;32mas\u001b[0m \u001b[0me\u001b[0m\u001b[0;34m:\u001b[0m\u001b[0;34m\u001b[0m\u001b[0;34m\u001b[0m\u001b[0m\n\u001b[1;32m    823\u001b[0m             \u001b[0;32mif\u001b[0m \u001b[0me\u001b[0m\u001b[0;34m.\u001b[0m\u001b[0mresponse\u001b[0m\u001b[0;34m.\u001b[0m\u001b[0mstatus_code\u001b[0m \u001b[0;34m==\u001b[0m \u001b[0;36m400\u001b[0m \u001b[0;32mand\u001b[0m \u001b[0moverwrite\u001b[0m \u001b[0;32mand\u001b[0m \u001b[0mCONFLICT_MESSAGE\u001b[0m \u001b[0;32min\u001b[0m \u001b[0me\u001b[0m\u001b[0;34m.\u001b[0m\u001b[0mmessage\u001b[0m\u001b[0;34m:\u001b[0m\u001b[0;34m\u001b[0m\u001b[0;34m\u001b[0m\u001b[0m\n",
      "\u001b[0;32m/Library/Frameworks/Python.framework/Versions/3.7/lib/python3.7/site-packages/azureml/_restclient/operations/data_stores_operations.py\u001b[0m in \u001b[0;36mcreate\u001b[0;34m(self, subscription_id, resource_group_name, workspace_name, dto, create_if_not_exists, skip_validation, custom_headers, raw, **operation_config)\u001b[0m\n\u001b[1;32m    177\u001b[0m \u001b[0;34m\u001b[0m\u001b[0m\n\u001b[1;32m    178\u001b[0m         \u001b[0;32mif\u001b[0m \u001b[0mresponse\u001b[0m\u001b[0;34m.\u001b[0m\u001b[0mstatus_code\u001b[0m \u001b[0;32mnot\u001b[0m \u001b[0;32min\u001b[0m \u001b[0;34m[\u001b[0m\u001b[0;36m200\u001b[0m\u001b[0;34m]\u001b[0m\u001b[0;34m:\u001b[0m\u001b[0;34m\u001b[0m\u001b[0;34m\u001b[0m\u001b[0m\n\u001b[0;32m--> 179\u001b[0;31m             \u001b[0;32mraise\u001b[0m \u001b[0mmodels\u001b[0m\u001b[0;34m.\u001b[0m\u001b[0mErrorResponseException\u001b[0m\u001b[0;34m(\u001b[0m\u001b[0mself\u001b[0m\u001b[0;34m.\u001b[0m\u001b[0m_deserialize\u001b[0m\u001b[0;34m,\u001b[0m \u001b[0mresponse\u001b[0m\u001b[0;34m)\u001b[0m\u001b[0;34m\u001b[0m\u001b[0;34m\u001b[0m\u001b[0m\n\u001b[0m\u001b[1;32m    180\u001b[0m \u001b[0;34m\u001b[0m\u001b[0m\n\u001b[1;32m    181\u001b[0m         \u001b[0;32mif\u001b[0m \u001b[0mraw\u001b[0m\u001b[0;34m:\u001b[0m\u001b[0;34m\u001b[0m\u001b[0;34m\u001b[0m\u001b[0m\n",
      "\u001b[0;31mErrorResponseException\u001b[0m: (NotFound) Unable to verify share 'tinyimagenetcontainer' exists. Please make sure the connection information including the credential is correct and try again."
     ]
    }
   ],
   "source": [
    "# creating data store\n",
    "\n",
    "import azureml.core\n",
    "from azureml.core import Workspace, Datastore\n",
    "import os\n",
    "\n",
    "ws = Workspace('92c76a2f-0e1c-4216-b65e-abf7a3f34c1e', 'AzureML_UW_ImageClassification', 'tinyimagenet')\n",
    "\n",
    "\n",
    "file_datastore_name='azfileshareimage' # Name of the datastore to workspace\n",
    "file_share_name=os.getenv(\"FILE_SHARE_CONTAINER\", \"tinyimagenetcontainer\") # Name of Azure file share container\n",
    "account_name=os.getenv(\"FILE_SHARE_ACCOUNTNAME\", \"tinyimagenet3828405834\") # Storage account name\n",
    "account_key=os.getenv(\"FILE_SHARE_ACCOUNT_KEY\", \"eUbPzo4Q4ySVer7gAOmV9NPrXYrwBxKWE9miJ03nsysM83LTj09R7MuZ+dDUJUU2UhHAfd80D7w8B8fDNCyGKA==\") # Storage account access key\n",
    "\n",
    "file_datastore = Datastore.register_azure_file_share(workspace=ws,\n",
    "                                                     datastore_name=file_datastore_name, \n",
    "                                                     file_share_name=file_share_name, \n",
    "                                                     account_name=account_name,\n",
    "                                                     account_key=account_key)\n",
    "\n",
    "\n",
    "\n"
   ]
  },
  {
   "cell_type": "code",
   "execution_count": null,
   "id": "abandoned-robert",
   "metadata": {},
   "outputs": [],
   "source": [
    "# create a FileDataset pointing to files in '' folder and its subfolders recursively\n",
    "datastore_paths = [(datastore, 'animals')]\n",
    "animal_ds = Dataset.File.from_files(path=datastore_paths)\n",
    "\n",
    "# create a FileDataset from image and label files behind public web urls\n",
    "web_paths = ['https://azureopendatastorage.blob.core.windows.net/mnist/train-images-idx3-ubyte.gz',\n",
    "             'https://azureopendatastorage.blob.core.windows.net/mnist/train-labels-idx1-ubyte.gz']\n",
    "mnist_ds = Dataset.File.from_files(path=web_paths)"
   ]
  }
 ],
 "metadata": {
  "kernelspec": {
   "display_name": "Python 3",
   "language": "python",
   "name": "python3"
  },
  "language_info": {
   "codemirror_mode": {
    "name": "ipython",
    "version": 3
   },
   "file_extension": ".py",
   "mimetype": "text/x-python",
   "name": "python",
   "nbconvert_exporter": "python",
   "pygments_lexer": "ipython3",
   "version": "3.7.6"
  }
 },
 "nbformat": 4,
 "nbformat_minor": 5
}
